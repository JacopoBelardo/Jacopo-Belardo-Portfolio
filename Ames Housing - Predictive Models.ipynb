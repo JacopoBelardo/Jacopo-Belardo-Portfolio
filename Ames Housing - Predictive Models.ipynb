{
 "cells": [
  {
   "cell_type": "markdown",
   "id": "a31b2bef",
   "metadata": {},
   "source": [
    "# Ames Housing - Jacopo Belardo"
   ]
  },
  {
   "cell_type": "markdown",
   "id": "79b76be1",
   "metadata": {},
   "source": [
    "1.\t Import the Numpy, Pandas, Matplotlib, and Scikit-Learn libraries"
   ]
  },
  {
   "cell_type": "code",
   "execution_count": 1,
   "id": "37a94601",
   "metadata": {},
   "outputs": [],
   "source": [
    "#import packages\n",
    "%matplotlib inline\n",
    "import os\n",
    "import numpy as np\n",
    "import pandas as pd\n",
    "import matplotlib.pyplot as plt\n",
    "from sklearn import datasets, model_selection, metrics"
   ]
  },
  {
   "cell_type": "markdown",
   "id": "efe355e4",
   "metadata": {},
   "source": [
    "2.\tMake sure your working directory is set correctly."
   ]
  },
  {
   "cell_type": "code",
   "execution_count": 2,
   "id": "f9444912",
   "metadata": {},
   "outputs": [
    {
     "data": {
      "text/plain": [
       "'C:\\\\Users\\\\jacbe\\\\OneDrive\\\\Desktop\\\\Portfolio'"
      ]
     },
     "execution_count": 2,
     "metadata": {},
     "output_type": "execute_result"
    }
   ],
   "source": [
    "os.getcwd()"
   ]
  },
  {
   "cell_type": "markdown",
   "id": "45faca5c",
   "metadata": {},
   "source": [
    "3.\tImport the Ames Housing data set into a pandas array."
   ]
  },
  {
   "cell_type": "code",
   "execution_count": 4,
   "id": "c73dc0ed",
   "metadata": {},
   "outputs": [],
   "source": [
    "ames = pd.read_csv(\"AmesHousing.csv\", sep=\",\", header=0, engine='python')"
   ]
  },
  {
   "cell_type": "code",
   "execution_count": 5,
   "id": "dea73213",
   "metadata": {},
   "outputs": [
    {
     "data": {
      "text/plain": [
       "(2930, 82)"
      ]
     },
     "execution_count": 5,
     "metadata": {},
     "output_type": "execute_result"
    }
   ],
   "source": [
    "ames.shape"
   ]
  },
  {
   "cell_type": "code",
   "execution_count": 6,
   "id": "42d6bd57",
   "metadata": {
    "scrolled": false
   },
   "outputs": [
    {
     "data": {
      "text/html": [
       "<div>\n",
       "<style scoped>\n",
       "    .dataframe tbody tr th:only-of-type {\n",
       "        vertical-align: middle;\n",
       "    }\n",
       "\n",
       "    .dataframe tbody tr th {\n",
       "        vertical-align: top;\n",
       "    }\n",
       "\n",
       "    .dataframe thead th {\n",
       "        text-align: right;\n",
       "    }\n",
       "</style>\n",
       "<table border=\"1\" class=\"dataframe\">\n",
       "  <thead>\n",
       "    <tr style=\"text-align: right;\">\n",
       "      <th></th>\n",
       "      <th>Order</th>\n",
       "      <th>PID</th>\n",
       "      <th>MS SubClass</th>\n",
       "      <th>MS Zoning</th>\n",
       "      <th>Lot Frontage</th>\n",
       "      <th>Lot Area</th>\n",
       "      <th>Street</th>\n",
       "      <th>Alley</th>\n",
       "      <th>Lot Shape</th>\n",
       "      <th>Land Contour</th>\n",
       "      <th>...</th>\n",
       "      <th>Pool Area</th>\n",
       "      <th>Pool QC</th>\n",
       "      <th>Fence</th>\n",
       "      <th>Misc Feature</th>\n",
       "      <th>Misc Val</th>\n",
       "      <th>Mo Sold</th>\n",
       "      <th>Yr Sold</th>\n",
       "      <th>Sale Type</th>\n",
       "      <th>Sale Condition</th>\n",
       "      <th>SalePrice</th>\n",
       "    </tr>\n",
       "  </thead>\n",
       "  <tbody>\n",
       "    <tr>\n",
       "      <th>0</th>\n",
       "      <td>1</td>\n",
       "      <td>526301100</td>\n",
       "      <td>20</td>\n",
       "      <td>RL</td>\n",
       "      <td>141.0</td>\n",
       "      <td>31770</td>\n",
       "      <td>Pave</td>\n",
       "      <td>NaN</td>\n",
       "      <td>IR1</td>\n",
       "      <td>Lvl</td>\n",
       "      <td>...</td>\n",
       "      <td>0</td>\n",
       "      <td>NaN</td>\n",
       "      <td>NaN</td>\n",
       "      <td>NaN</td>\n",
       "      <td>0</td>\n",
       "      <td>5</td>\n",
       "      <td>2010</td>\n",
       "      <td>WD</td>\n",
       "      <td>Normal</td>\n",
       "      <td>215000</td>\n",
       "    </tr>\n",
       "    <tr>\n",
       "      <th>1</th>\n",
       "      <td>2</td>\n",
       "      <td>526350040</td>\n",
       "      <td>20</td>\n",
       "      <td>RH</td>\n",
       "      <td>80.0</td>\n",
       "      <td>11622</td>\n",
       "      <td>Pave</td>\n",
       "      <td>NaN</td>\n",
       "      <td>Reg</td>\n",
       "      <td>Lvl</td>\n",
       "      <td>...</td>\n",
       "      <td>0</td>\n",
       "      <td>NaN</td>\n",
       "      <td>MnPrv</td>\n",
       "      <td>NaN</td>\n",
       "      <td>0</td>\n",
       "      <td>6</td>\n",
       "      <td>2010</td>\n",
       "      <td>WD</td>\n",
       "      <td>Normal</td>\n",
       "      <td>105000</td>\n",
       "    </tr>\n",
       "    <tr>\n",
       "      <th>2</th>\n",
       "      <td>3</td>\n",
       "      <td>526351010</td>\n",
       "      <td>20</td>\n",
       "      <td>RL</td>\n",
       "      <td>81.0</td>\n",
       "      <td>14267</td>\n",
       "      <td>Pave</td>\n",
       "      <td>NaN</td>\n",
       "      <td>IR1</td>\n",
       "      <td>Lvl</td>\n",
       "      <td>...</td>\n",
       "      <td>0</td>\n",
       "      <td>NaN</td>\n",
       "      <td>NaN</td>\n",
       "      <td>Gar2</td>\n",
       "      <td>12500</td>\n",
       "      <td>6</td>\n",
       "      <td>2010</td>\n",
       "      <td>WD</td>\n",
       "      <td>Normal</td>\n",
       "      <td>172000</td>\n",
       "    </tr>\n",
       "    <tr>\n",
       "      <th>3</th>\n",
       "      <td>4</td>\n",
       "      <td>526353030</td>\n",
       "      <td>20</td>\n",
       "      <td>RL</td>\n",
       "      <td>93.0</td>\n",
       "      <td>11160</td>\n",
       "      <td>Pave</td>\n",
       "      <td>NaN</td>\n",
       "      <td>Reg</td>\n",
       "      <td>Lvl</td>\n",
       "      <td>...</td>\n",
       "      <td>0</td>\n",
       "      <td>NaN</td>\n",
       "      <td>NaN</td>\n",
       "      <td>NaN</td>\n",
       "      <td>0</td>\n",
       "      <td>4</td>\n",
       "      <td>2010</td>\n",
       "      <td>WD</td>\n",
       "      <td>Normal</td>\n",
       "      <td>244000</td>\n",
       "    </tr>\n",
       "    <tr>\n",
       "      <th>4</th>\n",
       "      <td>5</td>\n",
       "      <td>527105010</td>\n",
       "      <td>60</td>\n",
       "      <td>RL</td>\n",
       "      <td>74.0</td>\n",
       "      <td>13830</td>\n",
       "      <td>Pave</td>\n",
       "      <td>NaN</td>\n",
       "      <td>IR1</td>\n",
       "      <td>Lvl</td>\n",
       "      <td>...</td>\n",
       "      <td>0</td>\n",
       "      <td>NaN</td>\n",
       "      <td>MnPrv</td>\n",
       "      <td>NaN</td>\n",
       "      <td>0</td>\n",
       "      <td>3</td>\n",
       "      <td>2010</td>\n",
       "      <td>WD</td>\n",
       "      <td>Normal</td>\n",
       "      <td>189900</td>\n",
       "    </tr>\n",
       "  </tbody>\n",
       "</table>\n",
       "<p>5 rows × 82 columns</p>\n",
       "</div>"
      ],
      "text/plain": [
       "   Order        PID  MS SubClass MS Zoning  Lot Frontage  Lot Area Street  \\\n",
       "0      1  526301100           20        RL         141.0     31770   Pave   \n",
       "1      2  526350040           20        RH          80.0     11622   Pave   \n",
       "2      3  526351010           20        RL          81.0     14267   Pave   \n",
       "3      4  526353030           20        RL          93.0     11160   Pave   \n",
       "4      5  527105010           60        RL          74.0     13830   Pave   \n",
       "\n",
       "  Alley Lot Shape Land Contour  ... Pool Area Pool QC  Fence Misc Feature  \\\n",
       "0   NaN       IR1          Lvl  ...         0     NaN    NaN          NaN   \n",
       "1   NaN       Reg          Lvl  ...         0     NaN  MnPrv          NaN   \n",
       "2   NaN       IR1          Lvl  ...         0     NaN    NaN         Gar2   \n",
       "3   NaN       Reg          Lvl  ...         0     NaN    NaN          NaN   \n",
       "4   NaN       IR1          Lvl  ...         0     NaN  MnPrv          NaN   \n",
       "\n",
       "  Misc Val Mo Sold Yr Sold Sale Type  Sale Condition  SalePrice  \n",
       "0        0       5    2010       WD           Normal     215000  \n",
       "1        0       6    2010       WD           Normal     105000  \n",
       "2    12500       6    2010       WD           Normal     172000  \n",
       "3        0       4    2010       WD           Normal     244000  \n",
       "4        0       3    2010       WD           Normal     189900  \n",
       "\n",
       "[5 rows x 82 columns]"
      ]
     },
     "execution_count": 6,
     "metadata": {},
     "output_type": "execute_result"
    }
   ],
   "source": [
    "ames.head()"
   ]
  },
  {
   "cell_type": "code",
   "execution_count": 7,
   "id": "f7e642c7",
   "metadata": {},
   "outputs": [
    {
     "name": "stdout",
     "output_type": "stream",
     "text": [
      "<class 'pandas.core.frame.DataFrame'>\n",
      "RangeIndex: 2930 entries, 0 to 2929\n",
      "Data columns (total 82 columns):\n",
      " #   Column           Non-Null Count  Dtype  \n",
      "---  ------           --------------  -----  \n",
      " 0   Order            2930 non-null   int64  \n",
      " 1   PID              2930 non-null   int64  \n",
      " 2   MS SubClass      2930 non-null   int64  \n",
      " 3   MS Zoning        2930 non-null   object \n",
      " 4   Lot Frontage     2440 non-null   float64\n",
      " 5   Lot Area         2930 non-null   int64  \n",
      " 6   Street           2930 non-null   object \n",
      " 7   Alley            198 non-null    object \n",
      " 8   Lot Shape        2930 non-null   object \n",
      " 9   Land Contour     2930 non-null   object \n",
      " 10  Utilities        2930 non-null   object \n",
      " 11  Lot Config       2930 non-null   object \n",
      " 12  Land Slope       2930 non-null   object \n",
      " 13  Neighborhood     2930 non-null   object \n",
      " 14  Condition 1      2930 non-null   object \n",
      " 15  Condition 2      2930 non-null   object \n",
      " 16  Bldg Type        2930 non-null   object \n",
      " 17  House Style      2930 non-null   object \n",
      " 18  Overall Qual     2930 non-null   int64  \n",
      " 19  Overall Cond     2930 non-null   int64  \n",
      " 20  Year Built       2930 non-null   int64  \n",
      " 21  Year Remod/Add   2930 non-null   int64  \n",
      " 22  Roof Style       2930 non-null   object \n",
      " 23  Roof Matl        2930 non-null   object \n",
      " 24  Exterior 1st     2930 non-null   object \n",
      " 25  Exterior 2nd     2930 non-null   object \n",
      " 26  Mas Vnr Type     2907 non-null   object \n",
      " 27  Mas Vnr Area     2907 non-null   float64\n",
      " 28  Exter Qual       2930 non-null   object \n",
      " 29  Exter Cond       2930 non-null   object \n",
      " 30  Foundation       2930 non-null   object \n",
      " 31  Bsmt Qual        2850 non-null   object \n",
      " 32  Bsmt Cond        2850 non-null   object \n",
      " 33  Bsmt Exposure    2847 non-null   object \n",
      " 34  BsmtFin Type 1   2850 non-null   object \n",
      " 35  BsmtFin SF 1     2929 non-null   float64\n",
      " 36  BsmtFin Type 2   2849 non-null   object \n",
      " 37  BsmtFin SF 2     2929 non-null   float64\n",
      " 38  Bsmt Unf SF      2929 non-null   float64\n",
      " 39  Total Bsmt SF    2929 non-null   float64\n",
      " 40  Heating          2930 non-null   object \n",
      " 41  Heating QC       2930 non-null   object \n",
      " 42  Central Air      2930 non-null   object \n",
      " 43  Electrical       2929 non-null   object \n",
      " 44  1st Flr SF       2930 non-null   int64  \n",
      " 45  2nd Flr SF       2930 non-null   int64  \n",
      " 46  Low Qual Fin SF  2930 non-null   int64  \n",
      " 47  Gr Liv Area      2930 non-null   int64  \n",
      " 48  Bsmt Full Bath   2928 non-null   float64\n",
      " 49  Bsmt Half Bath   2928 non-null   float64\n",
      " 50  Full Bath        2930 non-null   int64  \n",
      " 51  Half Bath        2930 non-null   int64  \n",
      " 52  Bedroom AbvGr    2930 non-null   int64  \n",
      " 53  Kitchen AbvGr    2930 non-null   int64  \n",
      " 54  Kitchen Qual     2930 non-null   object \n",
      " 55  TotRms AbvGrd    2930 non-null   int64  \n",
      " 56  Functional       2930 non-null   object \n",
      " 57  Fireplaces       2930 non-null   int64  \n",
      " 58  Fireplace Qu     1508 non-null   object \n",
      " 59  Garage Type      2773 non-null   object \n",
      " 60  Garage Yr Blt    2771 non-null   float64\n",
      " 61  Garage Finish    2771 non-null   object \n",
      " 62  Garage Cars      2929 non-null   float64\n",
      " 63  Garage Area      2929 non-null   float64\n",
      " 64  Garage Qual      2771 non-null   object \n",
      " 65  Garage Cond      2771 non-null   object \n",
      " 66  Paved Drive      2930 non-null   object \n",
      " 67  Wood Deck SF     2930 non-null   int64  \n",
      " 68  Open Porch SF    2930 non-null   int64  \n",
      " 69  Enclosed Porch   2930 non-null   int64  \n",
      " 70  3Ssn Porch       2930 non-null   int64  \n",
      " 71  Screen Porch     2930 non-null   int64  \n",
      " 72  Pool Area        2930 non-null   int64  \n",
      " 73  Pool QC          13 non-null     object \n",
      " 74  Fence            572 non-null    object \n",
      " 75  Misc Feature     106 non-null    object \n",
      " 76  Misc Val         2930 non-null   int64  \n",
      " 77  Mo Sold          2930 non-null   int64  \n",
      " 78  Yr Sold          2930 non-null   int64  \n",
      " 79  Sale Type        2930 non-null   object \n",
      " 80  Sale Condition   2930 non-null   object \n",
      " 81  SalePrice        2930 non-null   int64  \n",
      "dtypes: float64(11), int64(28), object(43)\n",
      "memory usage: 1.8+ MB\n"
     ]
    }
   ],
   "source": [
    "ames.info()"
   ]
  },
  {
   "cell_type": "code",
   "execution_count": 8,
   "id": "8e8cf647",
   "metadata": {},
   "outputs": [],
   "source": [
    "# remove columns with many Null values\n",
    "remove_cols = ['Alley', 'Mas Vnr Type', 'Fireplace Qu', 'Pool QC', 'Fence', 'Misc Feature']"
   ]
  },
  {
   "cell_type": "code",
   "execution_count": 9,
   "id": "f9e16afb",
   "metadata": {},
   "outputs": [],
   "source": [
    "ames = ames.drop(columns = remove_cols)"
   ]
  },
  {
   "cell_type": "code",
   "execution_count": 10,
   "id": "549fcf5d",
   "metadata": {},
   "outputs": [],
   "source": [
    "ames = ames.dropna()"
   ]
  },
  {
   "cell_type": "code",
   "execution_count": 11,
   "id": "283b0615",
   "metadata": {},
   "outputs": [
    {
     "data": {
      "text/plain": [
       "(2218, 76)"
      ]
     },
     "execution_count": 11,
     "metadata": {},
     "output_type": "execute_result"
    }
   ],
   "source": [
    "ames.shape"
   ]
  },
  {
   "cell_type": "markdown",
   "id": "7e71b564",
   "metadata": {},
   "source": [
    "4.\tChoose and set a target variable from the Ames data set.  The target variable you choose should be binary."
   ]
  },
  {
   "cell_type": "code",
   "execution_count": 12,
   "id": "8493db93",
   "metadata": {},
   "outputs": [
    {
     "name": "stdout",
     "output_type": "stream",
     "text": [
      "0       Y\n",
      "1       Y\n",
      "2       Y\n",
      "3       Y\n",
      "4       Y\n",
      "       ..\n",
      "2923    Y\n",
      "2924    Y\n",
      "2925    Y\n",
      "2928    Y\n",
      "2929    Y\n",
      "Name: Central Air, Length: 2218, dtype: object\n"
     ]
    }
   ],
   "source": [
    "# designate target variable name\n",
    "targetName = 'Central Air'\n",
    "#print(targetName)\n",
    "targetSeries = ames[targetName]\n",
    "#print(targetSeries)\n",
    "print(targetSeries)"
   ]
  },
  {
   "cell_type": "markdown",
   "id": "deb79582",
   "metadata": {},
   "source": [
    "5.\tView the distribution of your target variable in a bar chart."
   ]
  },
  {
   "cell_type": "code",
   "execution_count": 13,
   "id": "9a09ac7d",
   "metadata": {},
   "outputs": [
    {
     "name": "stdout",
     "output_type": "stream",
     "text": [
      "Central Air\n",
      "N     110\n",
      "Y    2108\n",
      "Name: Central Air, dtype: int64\n"
     ]
    },
    {
     "data": {
      "text/plain": [
       "<matplotlib.lines.Line2D at 0x29478844bb0>"
      ]
     },
     "execution_count": 13,
     "metadata": {},
     "output_type": "execute_result"
    },
    {
     "data": {
      "image/png": "[encoded data removed]",
      "text/plain": [
       "<Figure size 640x480 with 1 Axes>"
      ]
     },
     "metadata": {},
     "output_type": "display_data"
    }
   ],
   "source": [
    "#Basic bar chart since the target is binominal\n",
    "groupby = ames.groupby(targetName)\n",
    "targetEDA=groupby[targetName].aggregate(len)\n",
    "print(targetEDA)\n",
    "plt.figure()\n",
    "targetEDA.plot(kind='bar', grid=False)\n",
    "plt.axhline(0, color='k')"
   ]
  },
  {
   "cell_type": "markdown",
   "id": "f24752e5",
   "metadata": {},
   "source": [
    "6.\tMove your target variable to the front of your data frame."
   ]
  },
  {
   "cell_type": "code",
   "execution_count": 14,
   "id": "473abc72",
   "metadata": {},
   "outputs": [
    {
     "data": {
      "text/html": [
       "<div>\n",
       "<style scoped>\n",
       "    .dataframe tbody tr th:only-of-type {\n",
       "        vertical-align: middle;\n",
       "    }\n",
       "\n",
       "    .dataframe tbody tr th {\n",
       "        vertical-align: top;\n",
       "    }\n",
       "\n",
       "    .dataframe thead th {\n",
       "        text-align: right;\n",
       "    }\n",
       "</style>\n",
       "<table border=\"1\" class=\"dataframe\">\n",
       "  <thead>\n",
       "    <tr style=\"text-align: right;\">\n",
       "      <th></th>\n",
       "      <th>Central Air</th>\n",
       "      <th>Order</th>\n",
       "      <th>PID</th>\n",
       "      <th>MS SubClass</th>\n",
       "      <th>MS Zoning</th>\n",
       "      <th>Lot Frontage</th>\n",
       "      <th>Lot Area</th>\n",
       "      <th>Street</th>\n",
       "      <th>Lot Shape</th>\n",
       "      <th>Land Contour</th>\n",
       "      <th>...</th>\n",
       "      <th>Enclosed Porch</th>\n",
       "      <th>3Ssn Porch</th>\n",
       "      <th>Screen Porch</th>\n",
       "      <th>Pool Area</th>\n",
       "      <th>Misc Val</th>\n",
       "      <th>Mo Sold</th>\n",
       "      <th>Yr Sold</th>\n",
       "      <th>Sale Type</th>\n",
       "      <th>Sale Condition</th>\n",
       "      <th>SalePrice</th>\n",
       "    </tr>\n",
       "  </thead>\n",
       "  <tbody>\n",
       "    <tr>\n",
       "      <th>0</th>\n",
       "      <td>Y</td>\n",
       "      <td>1</td>\n",
       "      <td>526301100</td>\n",
       "      <td>20</td>\n",
       "      <td>RL</td>\n",
       "      <td>141.0</td>\n",
       "      <td>31770</td>\n",
       "      <td>Pave</td>\n",
       "      <td>IR1</td>\n",
       "      <td>Lvl</td>\n",
       "      <td>...</td>\n",
       "      <td>0</td>\n",
       "      <td>0</td>\n",
       "      <td>0</td>\n",
       "      <td>0</td>\n",
       "      <td>0</td>\n",
       "      <td>5</td>\n",
       "      <td>2010</td>\n",
       "      <td>WD</td>\n",
       "      <td>Normal</td>\n",
       "      <td>215000</td>\n",
       "    </tr>\n",
       "    <tr>\n",
       "      <th>1</th>\n",
       "      <td>Y</td>\n",
       "      <td>2</td>\n",
       "      <td>526350040</td>\n",
       "      <td>20</td>\n",
       "      <td>RH</td>\n",
       "      <td>80.0</td>\n",
       "      <td>11622</td>\n",
       "      <td>Pave</td>\n",
       "      <td>Reg</td>\n",
       "      <td>Lvl</td>\n",
       "      <td>...</td>\n",
       "      <td>0</td>\n",
       "      <td>0</td>\n",
       "      <td>120</td>\n",
       "      <td>0</td>\n",
       "      <td>0</td>\n",
       "      <td>6</td>\n",
       "      <td>2010</td>\n",
       "      <td>WD</td>\n",
       "      <td>Normal</td>\n",
       "      <td>105000</td>\n",
       "    </tr>\n",
       "    <tr>\n",
       "      <th>2</th>\n",
       "      <td>Y</td>\n",
       "      <td>3</td>\n",
       "      <td>526351010</td>\n",
       "      <td>20</td>\n",
       "      <td>RL</td>\n",
       "      <td>81.0</td>\n",
       "      <td>14267</td>\n",
       "      <td>Pave</td>\n",
       "      <td>IR1</td>\n",
       "      <td>Lvl</td>\n",
       "      <td>...</td>\n",
       "      <td>0</td>\n",
       "      <td>0</td>\n",
       "      <td>0</td>\n",
       "      <td>0</td>\n",
       "      <td>12500</td>\n",
       "      <td>6</td>\n",
       "      <td>2010</td>\n",
       "      <td>WD</td>\n",
       "      <td>Normal</td>\n",
       "      <td>172000</td>\n",
       "    </tr>\n",
       "    <tr>\n",
       "      <th>3</th>\n",
       "      <td>Y</td>\n",
       "      <td>4</td>\n",
       "      <td>526353030</td>\n",
       "      <td>20</td>\n",
       "      <td>RL</td>\n",
       "      <td>93.0</td>\n",
       "      <td>11160</td>\n",
       "      <td>Pave</td>\n",
       "      <td>Reg</td>\n",
       "      <td>Lvl</td>\n",
       "      <td>...</td>\n",
       "      <td>0</td>\n",
       "      <td>0</td>\n",
       "      <td>0</td>\n",
       "      <td>0</td>\n",
       "      <td>0</td>\n",
       "      <td>4</td>\n",
       "      <td>2010</td>\n",
       "      <td>WD</td>\n",
       "      <td>Normal</td>\n",
       "      <td>244000</td>\n",
       "    </tr>\n",
       "    <tr>\n",
       "      <th>4</th>\n",
       "      <td>Y</td>\n",
       "      <td>5</td>\n",
       "      <td>527105010</td>\n",
       "      <td>60</td>\n",
       "      <td>RL</td>\n",
       "      <td>74.0</td>\n",
       "      <td>13830</td>\n",
       "      <td>Pave</td>\n",
       "      <td>IR1</td>\n",
       "      <td>Lvl</td>\n",
       "      <td>...</td>\n",
       "      <td>0</td>\n",
       "      <td>0</td>\n",
       "      <td>0</td>\n",
       "      <td>0</td>\n",
       "      <td>0</td>\n",
       "      <td>3</td>\n",
       "      <td>2010</td>\n",
       "      <td>WD</td>\n",
       "      <td>Normal</td>\n",
       "      <td>189900</td>\n",
       "    </tr>\n",
       "  </tbody>\n",
       "</table>\n",
       "<p>5 rows × 76 columns</p>\n",
       "</div>"
      ],
      "text/plain": [
       "  Central Air  Order        PID  MS SubClass MS Zoning  Lot Frontage  \\\n",
       "0           Y      1  526301100           20        RL         141.0   \n",
       "1           Y      2  526350040           20        RH          80.0   \n",
       "2           Y      3  526351010           20        RL          81.0   \n",
       "3           Y      4  526353030           20        RL          93.0   \n",
       "4           Y      5  527105010           60        RL          74.0   \n",
       "\n",
       "   Lot Area Street Lot Shape Land Contour  ... Enclosed Porch 3Ssn Porch  \\\n",
       "0     31770   Pave       IR1          Lvl  ...              0          0   \n",
       "1     11622   Pave       Reg          Lvl  ...              0          0   \n",
       "2     14267   Pave       IR1          Lvl  ...              0          0   \n",
       "3     11160   Pave       Reg          Lvl  ...              0          0   \n",
       "4     13830   Pave       IR1          Lvl  ...              0          0   \n",
       "\n",
       "  Screen Porch Pool Area Misc Val Mo Sold Yr Sold Sale Type  Sale Condition  \\\n",
       "0            0         0        0       5    2010       WD           Normal   \n",
       "1          120         0        0       6    2010       WD           Normal   \n",
       "2            0         0    12500       6    2010       WD           Normal   \n",
       "3            0         0        0       4    2010       WD           Normal   \n",
       "4            0         0        0       3    2010       WD           Normal   \n",
       "\n",
       "   SalePrice  \n",
       "0     215000  \n",
       "1     105000  \n",
       "2     172000  \n",
       "3     244000  \n",
       "4     189900  \n",
       "\n",
       "[5 rows x 76 columns]"
      ]
     },
     "execution_count": 14,
     "metadata": {},
     "output_type": "execute_result"
    }
   ],
   "source": [
    "#remove target from current location and insert in column number 0\n",
    "del ames[targetName]\n",
    "ames.insert(0, targetName, targetSeries)\n",
    "#reprint dataframe and see target is in position 0\n",
    "ames.head(5)"
   ]
  },
  {
   "cell_type": "markdown",
   "id": "74d44939",
   "metadata": {},
   "source": [
    "7.\tChange the target variable type to numeric (if it’s not already).  Change any other categorical variables to dummy variables."
   ]
  },
  {
   "cell_type": "code",
   "execution_count": 15,
   "id": "28b6a1eb",
   "metadata": {},
   "outputs": [],
   "source": [
    "# Turn a character/text target variable into numeric one\n",
    "from sklearn import preprocessing\n",
    "le_dep = preprocessing.LabelEncoder()\n",
    "#to convert into numbers\n",
    "ames['Central Air'] = le_dep.fit_transform(ames['Central Air'])\n",
    "\n",
    "# perform data transformation. Creates dummy variables for categorical variables. \n",
    "for col in ames.columns[1:]:\n",
    "\tattName = col\n",
    "\tdType = ames[col].dtype\n",
    "\tmissing = pd.isnull(ames[col]).any()\n",
    "\tuniqueCount = len(ames[attName].value_counts(normalize=False))\n",
    "\t# discretize (create dummies)\n",
    "\tif dType == object:\n",
    "\t\tdf = pd.concat([ames, pd.get_dummies(ames[col], prefix=col)], axis=1)\n",
    "\t\tdel ames[attName]"
   ]
  },
  {
   "cell_type": "code",
   "execution_count": 16,
   "id": "2252388d",
   "metadata": {},
   "outputs": [
    {
     "data": {
      "text/plain": [
       "Index(['Central Air', 'Order', 'PID', 'MS SubClass', 'Lot Frontage',\n",
       "       'Lot Area', 'Overall Qual', 'Overall Cond', 'Year Built',\n",
       "       'Year Remod/Add', 'Mas Vnr Area', 'BsmtFin SF 1', 'BsmtFin SF 2',\n",
       "       'Bsmt Unf SF', 'Total Bsmt SF', '1st Flr SF', '2nd Flr SF',\n",
       "       'Low Qual Fin SF', 'Gr Liv Area', 'Bsmt Full Bath', 'Bsmt Half Bath',\n",
       "       'Full Bath', 'Half Bath', 'Bedroom AbvGr', 'Kitchen AbvGr',\n",
       "       'TotRms AbvGrd', 'Fireplaces', 'Garage Yr Blt', 'Garage Cars',\n",
       "       'Garage Area', 'Wood Deck SF', 'Open Porch SF', 'Enclosed Porch',\n",
       "       '3Ssn Porch', 'Screen Porch', 'Pool Area', 'Misc Val', 'Mo Sold',\n",
       "       'Yr Sold', 'SalePrice'],\n",
       "      dtype='object')"
      ]
     },
     "execution_count": 16,
     "metadata": {},
     "output_type": "execute_result"
    }
   ],
   "source": [
    "ames.columns"
   ]
  },
  {
   "cell_type": "markdown",
   "id": "3cc94584",
   "metadata": {},
   "source": [
    "8.\tSplit data set into training and testing."
   ]
  },
  {
   "cell_type": "code",
   "execution_count": 17,
   "id": "7e1ccc97",
   "metadata": {},
   "outputs": [],
   "source": [
    "# split dataset into testing and training\n",
    "# column location 1 to end of dataframe are the features.\n",
    "# column location 0 is the target\n",
    "from sklearn.model_selection  import train_test_split\n",
    "features_train, features_test, target_train, target_test = train_test_split(\n",
    "    ames.iloc[:,1:].values, ames.iloc[:,0].values, test_size=0.40, random_state=0)"
   ]
  },
  {
   "cell_type": "code",
   "execution_count": 18,
   "id": "247e38f7",
   "metadata": {},
   "outputs": [
    {
     "name": "stdout",
     "output_type": "stream",
     "text": [
      "(888, 39)\n",
      "(1330, 39)\n",
      "(888,)\n",
      "(1330,)\n",
      "Percent of Target that is Yes 0.9481981981981982\n"
     ]
    }
   ],
   "source": [
    "print(features_test.shape)\n",
    "print(features_train.shape)\n",
    "print(target_test.shape)\n",
    "print(target_train.shape)\n",
    "print(\"Percent of Target that is Yes\", target_test.mean())"
   ]
  },
  {
   "cell_type": "markdown",
   "id": "c1a6a37f",
   "metadata": {},
   "source": [
    "9.\tBuild and train a decision tree model."
   ]
  },
  {
   "cell_type": "code",
   "execution_count": 19,
   "id": "6fd862d6",
   "metadata": {
    "scrolled": false
   },
   "outputs": [
    {
     "name": "stdout",
     "output_type": "stream",
     "text": [
      "DecisionTreeClassifier(class_weight='balanced', random_state=123)\n",
      "DT Accuracy Score 0.9324324324324325\n",
      "                   precision    recall  f1-score   support\n",
      "\n",
      " Central Air = no       0.34      0.33      0.33        46\n",
      "Central Air = yes       0.96      0.97      0.96       842\n",
      "\n",
      "         accuracy                           0.93       888\n",
      "        macro avg       0.65      0.65      0.65       888\n",
      "     weighted avg       0.93      0.93      0.93       888\n",
      "\n"
     ]
    }
   ],
   "source": [
    "from sklearn import tree \n",
    "from sklearn.metrics import accuracy_score, classification_report\n",
    "#Build\n",
    "ames_dt = tree.DecisionTreeClassifier(class_weight=\"balanced\", random_state=123)\n",
    "print(ames_dt)\n",
    "#Train\n",
    "ames_dt = ames_dt.fit(features_train, target_train)\n",
    "#Validate\n",
    "target_predicted = ames_dt.predict(features_test)\n",
    "print(\"DT Accuracy Score\", accuracy_score(target_test, target_predicted))\n",
    "# print classification report\n",
    "target_names = [\"Central Air = no\", \"Central Air = yes\"]\n",
    "print(classification_report(target_test, target_predicted, target_names=target_names))"
   ]
  },
  {
   "cell_type": "markdown",
   "id": "260ea7cd",
   "metadata": {},
   "source": [
    "The decision tree model achieved an accuracy of 93%, indicating strong overall performance on the test data. However, the model struggles with predicting the minority class (Central Air = no), as showed by the low precision, recall, and F1-score for this category. This issue is probably rooted in the highly imbalanced nature of the dataset, where the majority class (Central Air = yes) dominates. To address this imbalance and improve the model's performance on the minority class, techniques such as data balancing could be explored. These adjustments could provide a better analysis and capture patterns in the minority class."
   ]
  },
  {
   "cell_type": "markdown",
   "id": "4cab2864",
   "metadata": {},
   "source": [
    "10.\tVerify your decision tree with cross validation."
   ]
  },
  {
   "cell_type": "code",
   "execution_count": 20,
   "id": "bb5efb35",
   "metadata": {},
   "outputs": [
    {
     "name": "stdout",
     "output_type": "stream",
     "text": [
      "Cross Validation Score for each K [0.95488722 0.95488722 0.93984962 0.95488722 0.94736842 0.95488722\n",
      " 0.92481203 0.93984962 0.93984962 0.93984962]\n"
     ]
    },
    {
     "data": {
      "text/plain": [
       "0.9451127819548871"
      ]
     },
     "execution_count": 20,
     "metadata": {},
     "output_type": "execute_result"
    }
   ],
   "source": [
    "from sklearn.model_selection import cross_val_score, KFold\n",
    "\n",
    "#verify DT with Cross Validation\n",
    "scores = cross_val_score(ames_dt, features_train, target_train, cv=10)\n",
    "print(\"Cross Validation Score for each K\",scores)\n",
    "scores.mean()"
   ]
  },
  {
   "cell_type": "markdown",
   "id": "f6e1d64a",
   "metadata": {},
   "source": [
    "The cross-validation scores for each fold are consistently high, ranging from approximately 92% to 95%, with an average score of 94.5%. This consistency indicates that the model is robust and performs well across various data subsets, reducing the risk of overfitting."
   ]
  },
  {
   "cell_type": "markdown",
   "id": "01f3fa16",
   "metadata": {},
   "source": [
    "11.\tBuild a bagged model using bootstrap aggregation by creating 100 bootstrapped training sets.  Then, train a decision tree learner on those 100 bootstrapped sets."
   ]
  },
  {
   "cell_type": "code",
   "execution_count": 21,
   "id": "dae8b764",
   "metadata": {
    "scrolled": true
   },
   "outputs": [
    {
     "name": "stdout",
     "output_type": "stream",
     "text": [
      "BaggingClassifier(n_estimators=100, random_state=123)\n",
      "Bagging Accuracy 0.9448198198198198\n",
      "                   precision    recall  f1-score   support\n",
      "\n",
      " Central Air = no       0.40      0.13      0.20        46\n",
      "Central Air = yes       0.95      0.99      0.97       842\n",
      "\n",
      "         accuracy                           0.94       888\n",
      "        macro avg       0.68      0.56      0.58       888\n",
      "     weighted avg       0.93      0.94      0.93       888\n",
      "\n",
      "[[  6  40]\n",
      " [  9 833]]\n"
     ]
    }
   ],
   "source": [
    "from sklearn.ensemble import BaggingClassifier\n",
    "from sklearn.metrics import confusion_matrix, classification_report\n",
    "#Build\n",
    "ames_bag = BaggingClassifier(n_estimators=100, random_state=123)\n",
    "print(ames_bag)\n",
    "#Train\n",
    "ames_bag.fit(features_train, target_train)\n",
    "#Validate \n",
    "target_predicted=ames_bag.predict(features_test)\n",
    "print(\"Bagging Accuracy\", accuracy_score(target_test, target_predicted))\n",
    "target_names = [\"Central Air = no\", \"Central Air = yes\"]\n",
    "print(classification_report(target_test, target_predicted,target_names=target_names))\n",
    "print(confusion_matrix(target_test, target_predicted))"
   ]
  },
  {
   "cell_type": "markdown",
   "id": "a74658a6",
   "metadata": {},
   "source": [
    "The bagged model achieved an overall accuracy of 94.48% on the test set, demonstrating strong performance. However, while the majority class (Central Air = yes) is predicted with high precision and recall, the minority class (Central Air = no) shows significant underperformance with a precision of 0.40 and a recall of just 0.13. The disparity in performance between the classes, confirms that the model struggles with the imbalanced nature of the dataset. The confusion matrix further illustrates this, showing that only 6 out of 46 instances of Central Air = no were correctly classified."
   ]
  },
  {
   "cell_type": "markdown",
   "id": "e0ea7a83",
   "metadata": {},
   "source": [
    "12.\tVerify your bagged model with cross validation."
   ]
  },
  {
   "cell_type": "code",
   "execution_count": 22,
   "id": "e0830195",
   "metadata": {},
   "outputs": [
    {
     "name": "stdout",
     "output_type": "stream",
     "text": [
      "Cross Validation Score for each K [0.96992481 0.95488722 0.95488722 0.93984962 0.96992481 0.97744361\n",
      " 0.94736842 0.95488722 0.95488722 0.96240602]\n"
     ]
    },
    {
     "data": {
      "text/plain": [
       "0.9586466165413533"
      ]
     },
     "execution_count": 22,
     "metadata": {},
     "output_type": "execute_result"
    }
   ],
   "source": [
    "#verify bagging with cross validation\n",
    "scores_bag = cross_val_score(ames_bag, features_train, target_train, cv=10, n_jobs=-1)\n",
    "print(\"Cross Validation Score for each K\",scores_bag)\n",
    "scores_bag.mean()"
   ]
  },
  {
   "cell_type": "markdown",
   "id": "889611e0",
   "metadata": {},
   "source": [
    "The bagging model achieved a strong average cross-validation score of 95.86%, indicating robust generalizability. However, its struggles with the minority class (Central Air = no) persist, suggesting a need for alternative strategies."
   ]
  },
  {
   "cell_type": "markdown",
   "id": "796443b2",
   "metadata": {},
   "source": [
    "13.\tBuild and train a boosted model using AdaBoost."
   ]
  },
  {
   "cell_type": "code",
   "execution_count": 23,
   "id": "bb0f1c61",
   "metadata": {
    "scrolled": true
   },
   "outputs": [
    {
     "name": "stdout",
     "output_type": "stream",
     "text": [
      "Adaboost Accuracy 0.9290540540540541\n",
      "                   precision    recall  f1-score   support\n",
      "\n",
      " Central Air = no       0.32      0.33      0.32        46\n",
      "Central Air = yes       0.96      0.96      0.96       842\n",
      "\n",
      "         accuracy                           0.93       888\n",
      "        macro avg       0.64      0.64      0.64       888\n",
      "     weighted avg       0.93      0.93      0.93       888\n",
      "\n",
      "[[ 15  31]\n",
      " [ 32 810]]\n"
     ]
    }
   ],
   "source": [
    "from sklearn.ensemble import AdaBoostClassifier\n",
    "from sklearn import tree\n",
    "ames_dt_ab = AdaBoostClassifier(tree.DecisionTreeClassifier(class_weight=\"balanced\"),\n",
    "                         algorithm=\"SAMME.R\",\n",
    "                         n_estimators=100, random_state=123)\n",
    "ames_dt_ab.fit(features_train, target_train)\n",
    "target_predicted=ames_dt_ab.predict(features_test)\n",
    "print(\"Adaboost Accuracy\", accuracy_score(target_test,target_predicted))\n",
    "target_names = [\"Central Air = no\", \"Central Air = yes\"]\n",
    "print(classification_report(target_test, target_predicted,target_names=target_names))\n",
    "print(confusion_matrix(target_test, target_predicted))"
   ]
  },
  {
   "cell_type": "markdown",
   "id": "1776f229",
   "metadata": {},
   "source": [
    "The AdaBoost model achieved an accuracy of 92.91%, performing well overall. However, it struggles with the minority class (Central Air = no), showing a low precision (0.32) and recall (0.33), similar to the decision tree and bagging models. While its overall performance is comparable to bagging, it does not significantly improve minority class predictions, highlighting the persistent challenge of handling imbalanced data across these approaches."
   ]
  },
  {
   "cell_type": "markdown",
   "id": "e34695a1",
   "metadata": {},
   "source": [
    "14.\tMake a ROC curve that includes your bagged and boosted models.  Which performs better?"
   ]
  },
  {
   "cell_type": "code",
   "execution_count": 24,
   "id": "413cb653",
   "metadata": {},
   "outputs": [
    {
     "name": "stderr",
     "output_type": "stream",
     "text": [
      "C:\\Users\\jacbe\\AppData\\Local\\Temp\\ipykernel_22396\\641343050.py:22: FutureWarning: The frame.append method is deprecated and will be removed from pandas in a future version. Use pandas.concat instead.\n",
      "  result_table = result_table.append({'classifiers': cls.__class__.__name__,\n",
      "C:\\Users\\jacbe\\AppData\\Local\\Temp\\ipykernel_22396\\641343050.py:22: FutureWarning: The frame.append method is deprecated and will be removed from pandas in a future version. Use pandas.concat instead.\n",
      "  result_table = result_table.append({'classifiers': cls.__class__.__name__,\n",
      "C:\\Users\\jacbe\\AppData\\Local\\Temp\\ipykernel_22396\\641343050.py:22: FutureWarning: The frame.append method is deprecated and will be removed from pandas in a future version. Use pandas.concat instead.\n",
      "  result_table = result_table.append({'classifiers': cls.__class__.__name__,\n"
     ]
    },
    {
     "data": {
      "image/png": "[encoded data removed]",
      "text/plain": [
       "<Figure size 800x600 with 1 Axes>"
      ]
     },
     "metadata": {},
     "output_type": "display_data"
    }
   ],
   "source": [
    "from sklearn.tree import DecisionTreeClassifier\n",
    "from sklearn.metrics import roc_curve, roc_auc_score\n",
    "\n",
    "# Instantiate the classifiers and make a list\n",
    "classifiers = [\n",
    "    DecisionTreeClassifier(class_weight=\"balanced\"), \n",
    "    BaggingClassifier(n_estimators=100),\n",
    "    AdaBoostClassifier(DecisionTreeClassifier(class_weight='balanced'), algorithm=\"SAMME.R\", n_estimators=100)\n",
    "]\n",
    "\n",
    "# Define a result table as a DataFrame\n",
    "result_table = pd.DataFrame(columns=['classifiers', 'fpr', 'tpr', 'auc'])\n",
    "\n",
    "# Train the models and record the results\n",
    "for cls in classifiers:\n",
    "    model = cls.fit(features_train, target_train)\n",
    "    target_predicted = model.predict_proba(features_test)[:, 1]\n",
    "    \n",
    "    fpr, tpr, _ = roc_curve(target_test, target_predicted)\n",
    "    auc = roc_auc_score(target_test, target_predicted)\n",
    "    \n",
    "    result_table = result_table.append({'classifiers': cls.__class__.__name__,\n",
    "                                        'fpr': fpr, \n",
    "                                        'tpr': tpr, \n",
    "                                        'auc': auc}, ignore_index=True)\n",
    "\n",
    "# Set name of the classifiers as index labels\n",
    "result_table.set_index('classifiers', inplace=True)\n",
    "\n",
    "# Plot the ROC curves\n",
    "fig = plt.figure(figsize=(8, 6))\n",
    "\n",
    "for i in result_table.index:\n",
    "    plt.plot(result_table.loc[i]['fpr'], \n",
    "             result_table.loc[i]['tpr'], \n",
    "             label=\"{}, AUC={:.3f}\".format(i, result_table.loc[i]['auc']))\n",
    "    \n",
    "plt.plot([0, 1], [0, 1], color='orange', linestyle='--')\n",
    "\n",
    "plt.xticks(np.arange(0.0, 1.1, step=0.1))\n",
    "plt.xlabel(\"False Positive Rate\", fontsize=15)\n",
    "\n",
    "plt.yticks(np.arange(0.0, 1.1, step=0.1))\n",
    "plt.ylabel(\"True Positive Rate\", fontsize=15)\n",
    "\n",
    "plt.title('ROC Curve Analysis', fontweight='bold', fontsize=15)\n",
    "plt.legend(prop={'size': 13}, loc='lower right')\n",
    "\n",
    "plt.show()"
   ]
  },
  {
   "cell_type": "markdown",
   "id": "6325c389",
   "metadata": {},
   "source": [
    "The ROC curve shows the comparative performance of the three classifiers I used (Decision Tree, Bagging, and AdaBoost) based on the AUC (Area Under the Curve) values.\n",
    "\n",
    "- Bagging Classifier performs the best with an AUC of 0.903, indicating strong predictive power.\n",
    "- AdaBoost Classifier has an AUC of 0.659, showing modest performance but better than random guessing.\n",
    "- Decision Tree Classifier has the lowest AUC of 0.646, reflecting limited ability to distinguish between the classes.\n",
    "\n",
    "Overall, the results suggest that the Bagging approach is significantly more effective, likely due to its aggregation of multiple trees to improve generalization. AdaBoost and Decision Tree are slightly better than random guessing but cannot be considered reliable models for this dataset."
   ]
  }
 ],
 "metadata": {
  "kernelspec": {
   "display_name": "Python 3 (ipykernel)",
   "language": "python",
   "name": "python3"
  },
  "language_info": {
   "codemirror_mode": {
    "name": "ipython",
    "version": 3
   },
   "file_extension": ".py",
   "mimetype": "text/x-python",
   "name": "python",
   "nbconvert_exporter": "python",
   "pygments_lexer": "ipython3",
   "version": "3.9.13"
  }
 },
 "nbformat": 4,
 "nbformat_minor": 5
}
